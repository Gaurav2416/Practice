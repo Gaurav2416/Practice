{
 "cells": [
  {
   "attachments": {},
   "cell_type": "markdown",
   "metadata": {},
   "source": [
    "Contain Duplicate in array"
   ]
  },
  {
   "cell_type": "code",
   "execution_count": 2,
   "metadata": {},
   "outputs": [
    {
     "data": {
      "text/plain": [
       "True"
      ]
     },
     "execution_count": 2,
     "metadata": {},
     "output_type": "execute_result"
    }
   ],
   "source": [
    "a = [1,2,3,1]\n",
    "def duplicates(a):\n",
    "    res = set()\n",
    "    for i in a:\n",
    "        if i in res:\n",
    "            return True\n",
    "        res.add(i)    \n",
    "    return False\n",
    "duplicates(a)"
   ]
  },
  {
   "attachments": {},
   "cell_type": "markdown",
   "metadata": {},
   "source": [
    "missing number"
   ]
  },
  {
   "cell_type": "code",
   "execution_count": 9,
   "metadata": {},
   "outputs": [
    {
     "data": {
      "text/plain": [
       "8"
      ]
     },
     "execution_count": 9,
     "metadata": {},
     "output_type": "execute_result"
    }
   ],
   "source": [
    "def missingNumber(a,n):\n",
    "    a.sort()\n",
    "    for i in range(0,n):\n",
    "        if i != a[i]:\n",
    "            return i\n",
    "    return i + 1        \n",
    "\n",
    "missingNumber([9,6,4,2,3,5,7,0,1],9)"
   ]
  },
  {
   "attachments": {},
   "cell_type": "markdown",
   "metadata": {},
   "source": [
    "find all missing numbers\n"
   ]
  },
  {
   "cell_type": "code",
   "execution_count": 12,
   "metadata": {},
   "outputs": [
    {
     "data": {
      "text/plain": [
       "[2]"
      ]
     },
     "execution_count": 12,
     "metadata": {},
     "output_type": "execute_result"
    }
   ],
   "source": [
    "def allMissingNumbers(a):\n",
    "    res = []\n",
    "    for i in a:\n",
    "        index = abs(i) - 1\n",
    "        a[index]= -1 * abs(a[index])\n",
    "    for i in range(len(a)):\n",
    "        if a[i] > 0:\n",
    "            res.append(i + 1)\n",
    "    return res        \n",
    "allMissingNumbers([1,1])"
   ]
  }
 ],
 "metadata": {
  "kernelspec": {
   "display_name": "Python 3",
   "language": "python",
   "name": "python3"
  },
  "language_info": {
   "codemirror_mode": {
    "name": "ipython",
    "version": 3
   },
   "file_extension": ".py",
   "mimetype": "text/x-python",
   "name": "python",
   "nbconvert_exporter": "python",
   "pygments_lexer": "ipython3",
   "version": "3.10.4"
  },
  "orig_nbformat": 4,
  "vscode": {
   "interpreter": {
    "hash": "4b158de9dee9cdd12df4ca6f07919f74aba3858e0415eb8802c7bdbce4de9a36"
   }
  }
 },
 "nbformat": 4,
 "nbformat_minor": 2
}
