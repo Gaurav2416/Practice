{
 "cells": [
  {
   "cell_type": "code",
   "execution_count": 29,
   "metadata": {},
   "outputs": [
    {
     "ename": "TypeError",
     "evalue": "'int' object is not callable",
     "output_type": "error",
     "traceback": [
      "\u001b[1;31m---------------------------------------------------------------------------\u001b[0m",
      "\u001b[1;31mTypeError\u001b[0m                                 Traceback (most recent call last)",
      "\u001b[1;32mc:\\Users\\User1\\Desktop\\Practice\\ques.ipynb Cell 1\u001b[0m in \u001b[0;36m<cell line: 2>\u001b[1;34m()\u001b[0m\n\u001b[0;32m      <a href='vscode-notebook-cell:/c%3A/Users/User1/Desktop/Practice/ques.ipynb#W0sZmlsZQ%3D%3D?line=0'>1</a>\u001b[0m nums \u001b[39m=\u001b[39m [\u001b[39m-\u001b[39m\u001b[39m10\u001b[39m,\u001b[39m-\u001b[39m\u001b[39m1\u001b[39m,\u001b[39m-\u001b[39m\u001b[39m2\u001b[39m,\u001b[39m3\u001b[39m,\u001b[39m6\u001b[39m,\u001b[39m5\u001b[39m,\u001b[39m4\u001b[39m]\n\u001b[1;32m----> <a href='vscode-notebook-cell:/c%3A/Users/User1/Desktop/Practice/ques.ipynb#W0sZmlsZQ%3D%3D?line=1'>2</a>\u001b[0m \u001b[39mmax\u001b[39;49m(nums)\n\u001b[0;32m      <a href='vscode-notebook-cell:/c%3A/Users/User1/Desktop/Practice/ques.ipynb#W0sZmlsZQ%3D%3D?line=2'>3</a>\u001b[0m cMin,curMax \u001b[39m=\u001b[39m \u001b[39m1\u001b[39m ,\u001b[39m1\u001b[39m\n\u001b[0;32m      <a href='vscode-notebook-cell:/c%3A/Users/User1/Desktop/Practice/ques.ipynb#W0sZmlsZQ%3D%3D?line=3'>4</a>\u001b[0m \u001b[39mfor\u001b[39;00m n \u001b[39min\u001b[39;00m nums:\n",
      "\u001b[1;31mTypeError\u001b[0m: 'int' object is not callable"
     ]
    }
   ],
   "source": [
    "nums = [-10,-1,-2,3,6,5,4]\n",
    "res = max(nums)\n",
    "cMin,curMax = 1 ,1\n",
    "for n in nums:\n",
    "    if n == 0:\n",
    "        cMin,cMax = 1,1\n",
    "        continue\n",
    "    cMax = max(n*cMax, n*cMin,n)\n",
    "    cMax = min(n*cMax, n*cMin,n)\n",
    "    res = max(res,cMax)\n",
    "print(res)\n",
    "\n",
    "\n"
   ]
  },
  {
   "cell_type": "code",
   "execution_count": 30,
   "metadata": {},
   "outputs": [],
   "source": [
    "def findMaxProduct(arr, n):\n",
    " \n",
    "    # As maximum product can be negative,\n",
    "    # so initialize ans with minimum\n",
    "    # integer value.\n",
    "    ans = -float('inf')\n",
    " \n",
    "    # Variable to store maximum product\n",
    "    # until current value.\n",
    "    maxval = 1\n",
    " \n",
    "    # Variable to store minimum product\n",
    "    # until current value.\n",
    "    minval = 1\n",
    " \n",
    "    for i in range(0, n):\n",
    " \n",
    "        # If current element is positive,\n",
    "        # update maxval. Update minval\n",
    "        # if it is negative.\n",
    "        if arr[i] > 0:\n",
    "            maxval = maxval * arr[i]\n",
    "            minval = min(1, minval * arr[i])\n",
    "         \n",
    "        # If current element is zero, maximum\n",
    "        # product cannot end at current element.\n",
    "        # Update minval with 1 and maxval with 0.\n",
    "        # maxval is updated to 0 as in case all\n",
    "        # other elements are negative, then\n",
    "        # maxval is 0.\n",
    "        elif arr[i] == 0:\n",
    "            minval = 1\n",
    "            maxval = 0\n",
    " \n",
    "        # If current element is negative,\n",
    "        # then new value of maxval is previous\n",
    "        # minval*arr[i] and new value of minval\n",
    "        # is previous maxval*arr[i]. Before\n",
    "        # updating maxval, store its previous\n",
    "        # value in prevMax to be used to\n",
    "        # update minval.\n",
    "        elif arr[i] < 0:\n",
    "            prevMax = maxval\n",
    "            maxval = minval * arr[i]\n",
    "            minval = prevMax * arr[i]\n",
    " \n",
    "        # Update ans if necessary.\n",
    "        ans = max(ans, maxval)\n",
    " \n",
    "        # If maxval is zero, then to calculate\n",
    "        # product for next iteration, it should\n",
    "        # be set to 1 as maximum product subarray\n",
    "        # does not include 0. The minimum possible\n",
    "        # value to be considered in maximum product\n",
    "        # subarray is already stored in minval,\n",
    "        # so when maxval is negative it is set to 1.\n",
    "        if maxval <= 0:\n",
    "            maxval = 1\n",
    " \n",
    "    return ans"
   ]
  },
  {
   "cell_type": "code",
   "execution_count": 31,
   "metadata": {},
   "outputs": [
    {
     "ename": "TypeError",
     "evalue": "'int' object is not callable",
     "output_type": "error",
     "traceback": [
      "\u001b[1;31m---------------------------------------------------------------------------\u001b[0m",
      "\u001b[1;31mTypeError\u001b[0m                                 Traceback (most recent call last)",
      "\u001b[1;32mc:\\Users\\User1\\Desktop\\Practice\\ques.ipynb Cell 3\u001b[0m in \u001b[0;36m<cell line: 4>\u001b[1;34m()\u001b[0m\n\u001b[0;32m      <a href='vscode-notebook-cell:/c%3A/Users/User1/Desktop/Practice/ques.ipynb#W2sZmlsZQ%3D%3D?line=3'>4</a>\u001b[0m \u001b[39mfor\u001b[39;00m i \u001b[39min\u001b[39;00m \u001b[39mrange\u001b[39m(\u001b[39m1\u001b[39m,\u001b[39mlen\u001b[39m(arr)):\n\u001b[0;32m      <a href='vscode-notebook-cell:/c%3A/Users/User1/Desktop/Practice/ques.ipynb#W2sZmlsZQ%3D%3D?line=4'>5</a>\u001b[0m     tmp \u001b[39m=\u001b[39m maxE\n\u001b[1;32m----> <a href='vscode-notebook-cell:/c%3A/Users/User1/Desktop/Practice/ques.ipynb#W2sZmlsZQ%3D%3D?line=5'>6</a>\u001b[0m     maxE \u001b[39m=\u001b[39m \u001b[39mmax\u001b[39;49m({arr[i],arr[i]\u001b[39m*\u001b[39;49mmaxE,arr[i]\u001b[39m*\u001b[39;49mminE})\n\u001b[0;32m      <a href='vscode-notebook-cell:/c%3A/Users/User1/Desktop/Practice/ques.ipynb#W2sZmlsZQ%3D%3D?line=6'>7</a>\u001b[0m     minE \u001b[39m=\u001b[39m \u001b[39mmin\u001b[39m({arr[i],arr[i]\u001b[39m*\u001b[39mmaxE,arr[i]\u001b[39m*\u001b[39mminE})\n\u001b[0;32m      <a href='vscode-notebook-cell:/c%3A/Users/User1/Desktop/Practice/ques.ipynb#W2sZmlsZQ%3D%3D?line=7'>8</a>\u001b[0m     mO \u001b[39m=\u001b[39m \u001b[39mmax\u001b[39m(mO,maxE)\n",
      "\u001b[1;31mTypeError\u001b[0m: 'int' object is not callable"
     ]
    }
   ],
   "source": [
    "arr = [-10,-1,-2,3,6,5,4]\n",
    "mO = arr[0]\n",
    "maxE , minE = arr[0], arr[0]\n",
    "for i in range(1,len(arr)):\n",
    "    tmp = maxE\n",
    "    maxE = max({arr[i],arr[i]*maxE,arr[i]*minE})\n",
    "    minE = min({arr[i],arr[i]*maxE,arr[i]*minE})\n",
    "    mO = max(mO,maxE)\n",
    "print(mO)"
   ]
  },
  {
   "cell_type": "code",
   "execution_count": 17,
   "metadata": {},
   "outputs": [
    {
     "name": "stdout",
     "output_type": "stream",
     "text": [
      "The original list is : [-10, -1, -2, 3, 6, 5, 4]\n",
      "Maximum product using K elements : 120\n"
     ]
    }
   ],
   "source": [
    "# Python3 code to demonstrate \n",
    "# Maximum product using K elements\n",
    "# using max() + sort() + list comprehension\n",
    "  \n",
    "# Initializing list\n",
    "test_list = [-10,-1,-2,3,6,5,4]\n",
    "  \n",
    "# printing original list\n",
    "print(\"The original list is : \" + str(test_list))\n",
    "  \n",
    "# Initializing K \n",
    "K = 5\n",
    "  \n",
    "# Maximum product using K elements\n",
    "# using max() + sort() + list comprehension\n",
    "test_list.sort()\n",
    "res = max(test_list[0] * test_list[1] * test_list[-1], test_list[-1] * test_list[-2] * test_list[-3]*test_list[-4]*test_list[-5])\n",
    "  \n",
    "# printing result \n",
    "print (\"Maximum product using K elements : \" + str(res))"
   ]
  },
  {
   "cell_type": "code",
   "execution_count": 33,
   "metadata": {},
   "outputs": [
    {
     "name": "stdout",
     "output_type": "stream",
     "text": [
      "The original list is : [8, 5, 9, 11, 3, 7]\n"
     ]
    },
    {
     "ename": "TypeError",
     "evalue": "'int' object is not callable",
     "output_type": "error",
     "traceback": [
      "\u001b[1;31m---------------------------------------------------------------------------\u001b[0m",
      "\u001b[1;31mTypeError\u001b[0m                                 Traceback (most recent call last)",
      "\u001b[1;32mc:\\Users\\User1\\Desktop\\Practice\\ques.ipynb Cell 5\u001b[0m in \u001b[0;36m<cell line: 16>\u001b[1;34m()\u001b[0m\n\u001b[0;32m     <a href='vscode-notebook-cell:/c%3A/Users/User1/Desktop/Practice/ques.ipynb#W4sZmlsZQ%3D%3D?line=11'>12</a>\u001b[0m K \u001b[39m=\u001b[39m \u001b[39m4\u001b[39m\n\u001b[0;32m     <a href='vscode-notebook-cell:/c%3A/Users/User1/Desktop/Practice/ques.ipynb#W4sZmlsZQ%3D%3D?line=13'>14</a>\u001b[0m \u001b[39m# Maximum product using K elements\u001b[39;00m\n\u001b[0;32m     <a href='vscode-notebook-cell:/c%3A/Users/User1/Desktop/Practice/ques.ipynb#W4sZmlsZQ%3D%3D?line=14'>15</a>\u001b[0m \u001b[39m# using max() + reduce() + combination() + mul + list comprehension\u001b[39;00m\n\u001b[1;32m---> <a href='vscode-notebook-cell:/c%3A/Users/User1/Desktop/Practice/ques.ipynb#W4sZmlsZQ%3D%3D?line=15'>16</a>\u001b[0m res \u001b[39m=\u001b[39m \u001b[39mmax\u001b[39;49m([reduce(mul, ele) \u001b[39mfor\u001b[39;49;00m ele \u001b[39min\u001b[39;49;00m combinations(test_list, K)])\n\u001b[0;32m     <a href='vscode-notebook-cell:/c%3A/Users/User1/Desktop/Practice/ques.ipynb#W4sZmlsZQ%3D%3D?line=17'>18</a>\u001b[0m \u001b[39m# printing result \u001b[39;00m\n\u001b[0;32m     <a href='vscode-notebook-cell:/c%3A/Users/User1/Desktop/Practice/ques.ipynb#W4sZmlsZQ%3D%3D?line=18'>19</a>\u001b[0m \u001b[39mprint\u001b[39m (\u001b[39m\"\u001b[39m\u001b[39mMaximum product using K elements : \u001b[39m\u001b[39m\"\u001b[39m \u001b[39m+\u001b[39m \u001b[39mstr\u001b[39m(res))\n",
      "\u001b[1;31mTypeError\u001b[0m: 'int' object is not callable"
     ]
    }
   ],
   "source": [
    "from functools import reduce\n",
    "from itertools import combinations\n",
    "from operator import mul\n",
    "  \n",
    "# Initializing list\n",
    "test_list = [8, 5, 9, 11, 3, 7]\n",
    "  \n",
    "# printing original list\n",
    "print(\"The original list is : \" + str(test_list))\n",
    "  \n",
    "# Initializing K \n",
    "K = 4\n",
    "  \n",
    "# Maximum product using K elements\n",
    "# using max() + reduce() + combination() + mul + list comprehension\n",
    "res = max([reduce(mul, ele) for ele in combinations(test_list, K)])\n",
    "  \n",
    "# printing result \n",
    "print (\"Maximum product using K elements : \" + str(res))"
   ]
  },
  {
   "cell_type": "code",
   "execution_count": 5,
   "metadata": {},
   "outputs": [
    {
     "name": "stdout",
     "output_type": "stream",
     "text": [
      "8 7 5 4 2 1 "
     ]
    }
   ],
   "source": [
    "\n",
    "INT_MIN = -2**31\n",
    "INT_MAX = 2**31\n",
    " \n",
    "# Function to find postorder traversal\n",
    "# from preorder traversal.\n",
    " \n",
    " \n",
    "def findPostOrderUtil(pre, n, minval,\n",
    "                      maxval, preIndex):\n",
    " \n",
    "    # If entire preorder array is traversed\n",
    "    # then return as no more element is left\n",
    "    # to be added to post order array.\n",
    "    if (preIndex[0] == n):\n",
    "        return\n",
    " \n",
    "    # If array element does not lie in\n",
    "    # range specified, then it is not\n",
    "    # part of current subtree.\n",
    "    if (pre[preIndex[0]] < minval or\n",
    "            pre[preIndex[0]] > maxval):\n",
    "        return\n",
    " \n",
    "    # Store current value, to be printed later,\n",
    "    # after printing left and right subtrees.\n",
    "    # Increment preIndex to find left and right\n",
    "    # subtrees, and pass this updated value to\n",
    "    # recursive calls.\n",
    "    val = pre[preIndex[0]]\n",
    "    preIndex[0] += 1\n",
    " \n",
    "    # All elements with value between minval\n",
    "    # and val lie in left subtree.\n",
    "    findPostOrderUtil(pre, n, minval,\n",
    "                      val, preIndex)\n",
    " \n",
    "    # All elements with value between val\n",
    "    # and maxval lie in right subtree.\n",
    "    findPostOrderUtil(pre, n, val,\n",
    "                      maxval, preIndex)\n",
    " \n",
    "    print(val, end=\" \")\n",
    " \n",
    "# Function to find postorder traversal.\n",
    " \n",
    " \n",
    "def findPostOrder(pre, n):\n",
    " \n",
    "    # To store index of element to be\n",
    "    # traversed next in preorder array.\n",
    "    # This is passed by reference to\n",
    "    # utility function.\n",
    "    preIndex = [0]\n",
    " \n",
    "    findPostOrderUtil(pre, n, INT_MIN,\n",
    "                      INT_MAX, preIndex)\n",
    " \n",
    " \n",
    "# Driver Code\n",
    "if __name__ == '__main__':\n",
    "    pre = [1, 2, 4, 5, 7, 8, 3, 6]\n",
    " \n",
    "    n = len(pre)\n",
    " \n",
    "    # Calling function\n",
    "    findPostOrder(pre, n)"
   ]
  },
  {
   "cell_type": "code",
   "execution_count": 6,
   "metadata": {},
   "outputs": [
    {
     "name": "stdout",
     "output_type": "stream",
     "text": [
      "The preorder traversal is 1 2 4 5 7 8 3 6 "
     ]
    }
   ],
   "source": [
    "from collections import deque\n",
    "def printPreorder(start, end, postorder, pIndex, d, stack):\n",
    " \n",
    "    # base case\n",
    "    if start > end:\n",
    "        return pIndex\n",
    " \n",
    "    # The next element in the postorder sequence from the end will be the root node\n",
    "    # of subtree formed by sequence inorder[start, end]\n",
    "    value = postorder[pIndex]\n",
    "    pIndex = pIndex - 1\n",
    " \n",
    "    # get the current node index in inorder sequence to determine\n",
    "    # its left and right subtree boundary\n",
    "    index = d[value]\n",
    " \n",
    "    # recur for the right subtree\n",
    "    pIndex = printPreorder(index + 1, end, postorder, pIndex, d, stack)\n",
    " \n",
    "    # recur for the left subtree\n",
    "    pIndex = printPreorder(start, index - 1, postorder, pIndex, d, stack)\n",
    " \n",
    "    # push the value of the current node into the stack\n",
    "    stack.append(value)\n",
    " \n",
    "    return pIndex\n",
    " \n",
    "def findPreorder(inorder, postorder):\n",
    " \n",
    "    # map is used to efficiently find the index of any element in\n",
    "    # a given inorder sequence\n",
    "        d = {}\n",
    " \n",
    "    # fill the dictionary\n",
    "        for i, e in enumerate(inorder):\n",
    "            d[e] = i\n",
    " \n",
    "    # `lastIndex` stores the index of the next unprocessed node from the end\n",
    "    # of the postorder sequence\n",
    "        lastIndex = len(inorder) - 1\n",
    " \n",
    "    # construct a stack to store the preorder sequence\n",
    "        stack = deque()\n",
    " \n",
    "    # fill the stack\n",
    "        printPreorder(0, lastIndex, postorder, lastIndex, d, stack)\n",
    " \n",
    "    # print the stack\n",
    "        print('The preorder traversal is ', end='')\n",
    "        while stack:\n",
    "            print(stack.pop(), end=' ')\n",
    "if __name__ == '__main__': \n",
    "    inorder = [4, 2, 7, 5, 8, 1, 3, 6]\n",
    "    postorder = [4, 7, 8, 5, 2 ,6, 3, 1]\n",
    " \n",
    "    findPreorder(inorder, postorder)"
   ]
  },
  {
   "cell_type": "code",
   "execution_count": 7,
   "metadata": {},
   "outputs": [],
   "source": [
    "check = [10,30,50]\n",
    "n = 4 \n",
    "m = 80\n",
    "i = len(check) - 1\n",
    "\n"
   ]
  },
  {
   "cell_type": "code",
   "execution_count": null,
   "metadata": {},
   "outputs": [],
   "source": [
    "for i in range(1,n):\n",
    "    "
   ]
  }
 ],
 "metadata": {
  "kernelspec": {
   "display_name": "Python 3.10.4 64-bit",
   "language": "python",
   "name": "python3"
  },
  "language_info": {
   "codemirror_mode": {
    "name": "ipython",
    "version": 3
   },
   "file_extension": ".py",
   "mimetype": "text/x-python",
   "name": "python",
   "nbconvert_exporter": "python",
   "pygments_lexer": "ipython3",
   "version": "3.10.4"
  },
  "orig_nbformat": 4,
  "vscode": {
   "interpreter": {
    "hash": "4b158de9dee9cdd12df4ca6f07919f74aba3858e0415eb8802c7bdbce4de9a36"
   }
  }
 },
 "nbformat": 4,
 "nbformat_minor": 2
}
