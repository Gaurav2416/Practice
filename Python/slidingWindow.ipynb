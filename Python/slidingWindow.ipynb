{
 "cells": [
  {
   "cell_type": "code",
   "execution_count": 30,
   "metadata": {},
   "outputs": [
    {
     "name": "stdout",
     "output_type": "stream",
     "text": [
      "Total before adding= 0\n",
      "Addition= [1]\n",
      "Total before adding= 1\n",
      "Addition= [1, 2]\n",
      "Total before adding= 3\n",
      "Addition= [1, 2, 3]\n",
      "Total before adding= 6\n",
      "Addition= [1, 2, 3, 4]\n",
      "Greater than 9= [1, 2, 3, 4] Total= 10\n",
      "Greater than 9= [2, 3, 4] Total= 9\n",
      "Total before adding= 7\n",
      "Addition= [3, 4, 5]\n",
      "Greater than 9= [3, 4, 5] Total= 12\n",
      "Greater than 9= [4, 5] Total= 9\n",
      "Total before adding= 5\n",
      "Addition= [5, 6]\n",
      "Greater than 9= [5, 6] Total= 11\n",
      "Total before adding= 6\n",
      "Addition= [6, 7]\n",
      "Greater than 9= [6, 7] Total= 13\n",
      "Total before adding= 7\n",
      "Addition= [7, 8]\n",
      "Greater than 9= [7, 8] Total= 15\n",
      "Total before adding= 8\n",
      "Addition= [8, 9]\n",
      "Greater than 9= [8, 9] Total= 17\n",
      "Greater than 9= [9] Total= 9\n"
     ]
    }
   ],
   "source": [
    "# array to check adding upto 9\n",
    "s=0\n",
    "t=9\n",
    "i=0\n",
    "j=0\n",
    "res=[]\n",
    "arr=[1,2,3,4,5,6,7,8,9]\n",
    "while i< len(arr):\n",
    "    # Sum less than target 't' so add new element\n",
    "    print('Total before adding=',s)\n",
    "    s+=arr[i]\n",
    "    res.append(arr[i])\n",
    "    print('Addition=',res)\n",
    "    # pop unitl less than target\n",
    "    while s>=t :\n",
    "       print('Greater than 9=',res,'Total=',s)\n",
    "       res.pop(0)\n",
    "       s-=arr[j]\n",
    "       j+=1 \n",
    "    i+=1        "
   ]
  },
  {
   "cell_type": "code",
   "execution_count": 38,
   "metadata": {},
   "outputs": [
    {
     "name": "stdout",
     "output_type": "stream",
     "text": [
      "Sum Before reching limit= -1\n",
      "Sum Before reching limit= 1\n",
      "After reaching limit= 1\n",
      "Sum Before reching limit= 5\n",
      "After reaching limit= 5\n",
      "Sum Before reching limit= 4\n",
      "After reaching limit= 4\n",
      "Sum Before reching limit= -2\n",
      "After reaching limit= -2\n",
      "Sum Before reching limit= -1\n",
      "After reaching limit= -1\n",
      "Max sum sub array 5\n"
     ]
    }
   ],
   "source": [
    "# Give an array of integers, find maximum sum subarray of the required  size=2\n",
    "size=2\n",
    "sum=0\n",
    "returnVal=0\n",
    "i=0\n",
    "j=0\n",
    "arr=[-1,2,3,1,-3,2]\n",
    "while i< len(arr):\n",
    "    sum=sum+arr[i]\n",
    "    print('Sum Before reching limit=',sum)\n",
    "    if returnVal<sum:\n",
    "        returnVal=sum \n",
    "    if(size==i-j+1):\n",
    "        print('After reaching limit=',sum)\n",
    "        sum-=arr[j]\n",
    "        j+=1  \n",
    "    i+=1\n",
    "print('Max sum sub array',returnVal)    "
   ]
  },
  {
   "cell_type": "code",
   "execution_count": 58,
   "metadata": {},
   "outputs": [
    {
     "name": "stdout",
     "output_type": "stream",
     "text": [
      "Array Sum= [7] Sum Value= 7\n",
      "Array Sum= [4, 3] Sum Value= 7\n",
      "Array Sum= [3, 1, 2, 1] Sum Value= 7\n",
      "Array Sum= [1, 5, 1] Sum Value= 7\n"
     ]
    }
   ],
   "source": [
    "# Given array of positivr integer, find the subarrays that add up to a given  number\n",
    "# When negative integer and zero in array use Kandanes Algo\n",
    "dSum=7\n",
    "arr=[1,7,4,3,1,2,1,5,1]\n",
    "i=0\n",
    "j=0\n",
    "sum=0\n",
    "sumEle= []\n",
    "while i< len(arr):\n",
    "    \n",
    "    sumEle.append(arr[i])\n",
    "    sum+=arr[i]\n",
    "    while sum>=dSum:\n",
    "        if sum==dSum:\n",
    "            print('Array Sum=',sumEle,'Sum Value=',sum)\n",
    "        sumEle.pop(0)\n",
    "        sum-= arr[j]\n",
    "        if len(sumEle)==0:\n",
    "            sum=0\n",
    "        j+=1\n",
    "            \n",
    "    i+=1    \n"
   ]
  },
  {
   "cell_type": "code",
   "execution_count": 18,
   "metadata": {},
   "outputs": [
    {
     "name": "stdout",
     "output_type": "stream",
     "text": [
      "[3, 4] 7\n"
     ]
    }
   ],
   "source": [
    "# Given an array of Integers , Find subarray that add upto given number \n",
    "# Note negative an zero is included in array(Cant use sliding window technique and use Kadane algo)\n",
    "# arr=[-1,-4,0,5,3,2,1]\n",
    "# Kadane Algo Problem Analysis:-\n",
    "# Input size is unlimited\n",
    "# Dont preCalculate and store all possible variation\n",
    "# Dont use recursion\n",
    "# Coener cases empty array, all negative elements, all zeros\n",
    "arr=[1,2,-4,3,4,-2]\n",
    "# t=5\n",
    "i=0\n",
    "j=0\n",
    "res=[]\n",
    "sum=0\n",
    "while i < len(arr):\n",
    "    sum=max(sum,sum+arr[i])\n",
    "    if sum+arr[i] < 0:\n",
    "        sum=0\n",
    "        res=[]\n",
    "    elif sum < sum+arr[i]:\n",
    "        res.append(arr[i])\n",
    "\n",
    "    # print(sum)\n",
    "    i+=1\n",
    "print(res,sum)   "
   ]
  }
 ],
 "metadata": {
  "kernelspec": {
   "display_name": "Python 3.10.4 64-bit",
   "language": "python",
   "name": "python3"
  },
  "language_info": {
   "codemirror_mode": {
    "name": "ipython",
    "version": 3
   },
   "file_extension": ".py",
   "mimetype": "text/x-python",
   "name": "python",
   "nbconvert_exporter": "python",
   "pygments_lexer": "ipython3",
   "version": "3.10.4"
  },
  "orig_nbformat": 4,
  "vscode": {
   "interpreter": {
    "hash": "4b158de9dee9cdd12df4ca6f07919f74aba3858e0415eb8802c7bdbce4de9a36"
   }
  }
 },
 "nbformat": 4,
 "nbformat_minor": 2
}
