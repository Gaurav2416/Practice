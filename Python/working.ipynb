{
 "cells": [
  {
   "cell_type": "markdown",
   "metadata": {},
   "source": [
    "correct +4\n",
    "incorrect -1 \n",
    "not attemptd +0\n",
    "\n",
    "1-> number of answer\n",
    "2-> N space separated string\n",
    "3-> Answer student attempt\n",
    "4-> student answer\n"
   ]
  },
  {
   "cell_type": "code",
   "execution_count": null,
   "metadata": {},
   "outputs": [],
   "source": [
    "import itertools\n",
    "from math import prod\n",
    "arr=[-10,-1,-2,3,6,5,4]\n",
    "newa = itertools.combinations(sorted(arr,reverse=True),5)\n",
    "print(list(newa))"
   ]
  },
  {
   "cell_type": "code",
   "execution_count": 32,
   "metadata": {},
   "outputs": [
    {
     "name": "stdout",
     "output_type": "stream",
     "text": [
      "[6, 5, 4, 3, 2, 1]\n",
      "[5, 4, 3, 2]\n",
      "[3, 4, 5, 6]\n"
     ]
    }
   ],
   "source": [
    "lst = [1,2,3,4,5,6]\n",
    "print(lst[::-1])\n",
    "print(lst[-2:-6:-1])\n",
    "print(lst[2:6])"
   ]
  },
  {
   "cell_type": "code",
   "execution_count": 28,
   "metadata": {},
   "outputs": [
    {
     "data": {
      "text/plain": [
       "True"
      ]
     },
     "execution_count": 28,
     "metadata": {},
     "output_type": "execute_result"
    }
   ],
   "source": [
    "a = 'Arlington'\n",
    "a[::-1]\n",
    "a.isalnum()\n",
    "a.isalpha()\n",
    "a.isdigit()\n",
    "a.islower()\n",
    "a.isspace()\n"
   ]
  },
  {
   "cell_type": "code",
   "execution_count": 70,
   "metadata": {},
   "outputs": [
    {
     "name": "stdout",
     "output_type": "stream",
     "text": [
      "7 9 9\n",
      "[3, 0, 0, 0, 0]\n",
      "hi\n",
      "1 3 3\n",
      "[3, 6, 0, 0, 0]\n",
      "1 15 15\n",
      "[3, 6, 15, 0, 0]\n",
      "1 9 15\n",
      "[3, 6, 15, 15, 0]\n",
      "1 4 15\n",
      "[3, 6, 15, 15, 15]\n"
     ]
    }
   ],
   "source": [
    "# arr = [[1,9],[1,3],[8,15],[6,9],[2,5]]\n",
    "arr = [[7,9],[1,3],[8,15],[6,9],[2,4]]\n",
    "size = 0\n",
    "res = [i *0 for i in range(len(arr))]\n",
    "l = arr[0][0]\n",
    "r = arr[0][1]\n",
    "for i in range(len(arr)):   \n",
    "    if l > arr[i][1]:\n",
    "        print(\"hi\")\n",
    "        l = arr[i][0]\n",
    "        r = arr[i][1]  \n",
    "        size += res[i-1]\n",
    "        res[i] = res[i-1] + size\n",
    "    else:    \n",
    "        if arr[i][0] < l:\n",
    "            l = arr[i][0]\n",
    "            res[i] = (r+1) - l  \n",
    "        if arr[i][1] > r:\n",
    "            r = arr[i][1]\n",
    "            res[i] = (r+1) - l  \n",
    "        else:\n",
    "            res[i] = (r+1) - l  \n",
    "    \n",
    "    # if i > 0:\n",
    "    #     res[i] = res[i - 1] + size\n",
    "    # else:\n",
    "    #     res[i] = size       \n",
    "    print(l,arr[i][1],r)\n",
    "    print(res)          \n"
   ]
  },
  {
   "cell_type": "code",
   "execution_count": 121,
   "metadata": {},
   "outputs": [
    {
     "data": {
      "text/plain": [
       "'Purpose Of The Day'"
      ]
     },
     "execution_count": 121,
     "metadata": {},
     "output_type": "execute_result"
    }
   ],
   "source": [
    "a = 'purpose of the day'\n",
    "resp = []\n",
    "for i in a.split():\n",
    "        i = i[0].upper() + i[1:]\n",
    "        resp.append(i)\n",
    "\" \".join(resp)              "
   ]
  },
  {
   "cell_type": "code",
   "execution_count": 117,
   "metadata": {},
   "outputs": [
    {
     "name": "stdout",
     "output_type": "stream",
     "text": [
      "21\n"
     ]
    }
   ],
   "source": [
    "num = 1496\n",
    "n = 0\n",
    "finalSum = 0\n",
    "while num!=0:\n",
    "    t = num % 10 \n",
    "    n += 1\n",
    "    if n%2==0:\n",
    "        t = t * 2\n",
    "        while t!=0:\n",
    "            finalSum += t%10\n",
    "            t = t//10\n",
    "    else:\n",
    "        finalSum += t\n",
    "    num = num//10\n",
    "print(finalSum)        "
   ]
  },
  {
   "cell_type": "code",
   "execution_count": 124,
   "metadata": {},
   "outputs": [
    {
     "name": "stdout",
     "output_type": "stream",
     "text": [
      "False\n"
     ]
    }
   ],
   "source": [
    "n = 21\n",
    "if(n & (n-1) == 0) and n != 0:\n",
    "    print(\"True\")\n",
    "else:\n",
    "    print(\"False\")    "
   ]
  },
  {
   "cell_type": "code",
   "execution_count": 125,
   "metadata": {},
   "outputs": [
    {
     "data": {
      "text/plain": [
       "False"
      ]
     },
     "execution_count": 125,
     "metadata": {},
     "output_type": "execute_result"
    }
   ],
   "source": [
    "import math\n",
    "\n",
    "math.log(n,2).is_integer()"
   ]
  },
  {
   "cell_type": "code",
   "execution_count": 135,
   "metadata": {},
   "outputs": [
    {
     "name": "stdout",
     "output_type": "stream",
     "text": [
      "0\n",
      "1\n",
      "1\n",
      "2\n",
      "3\n",
      "5\n",
      "8\n"
     ]
    }
   ],
   "source": [
    "f =  7\n",
    "i = 0\n",
    "firstNum = 0\n",
    "secondNum = 1\n",
    "temp = 0\n",
    "while i < f:\n",
    "    print(firstNum)\n",
    "    temp = firstNum + secondNum\n",
    "    firstNum = secondNum\n",
    "    secondNum = temp\n",
    "    i += 1\n",
    "    "
   ]
  },
  {
   "cell_type": "code",
   "execution_count": 10,
   "metadata": {},
   "outputs": [
    {
     "name": "stdout",
     "output_type": "stream",
     "text": [
      "1\n",
      "3.500\n",
      "1.7078\n"
     ]
    }
   ],
   "source": [
    "import numpy as np\n",
    "lst = [1,2,3,4,5,6]\n",
    "print(np.min(lst))\n",
    "print(f'{np.mean(lst):.3f}')\n",
    "print(f'{np.std(lst):.4f}')"
   ]
  },
  {
   "cell_type": "code",
   "execution_count": null,
   "metadata": {},
   "outputs": [],
   "source": [
    "resp = []\n",
    "for i in range(1,121):\n",
    "    if i%2!=0 and i%5!=0 and i%7!=0:\n",
    "        print(i)\n",
    "        resp.append(i)\n",
    "print(\"Totoal:\",len(resp))        "
   ]
  }
 ],
 "metadata": {
  "kernelspec": {
   "display_name": "Python 3.10.0 64-bit",
   "language": "python",
   "name": "python3"
  },
  "language_info": {
   "codemirror_mode": {
    "name": "ipython",
    "version": 3
   },
   "file_extension": ".py",
   "mimetype": "text/x-python",
   "name": "python",
   "nbconvert_exporter": "python",
   "pygments_lexer": "ipython3",
   "version": "3.10.0"
  },
  "orig_nbformat": 4,
  "vscode": {
   "interpreter": {
    "hash": "369f2c481f4da34e4445cda3fffd2e751bd1c4d706f27375911949ba6bb62e1c"
   }
  }
 },
 "nbformat": 4,
 "nbformat_minor": 2
}
