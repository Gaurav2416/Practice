{
 "cells": [
  {
   "attachments": {},
   "cell_type": "markdown",
   "metadata": {},
   "source": [
    "DFS with stack(Lifo) with directed graph"
   ]
  },
  {
   "cell_type": "code",
   "execution_count": 2,
   "metadata": {},
   "outputs": [
    {
     "name": "stdout",
     "output_type": "stream",
     "text": [
      "a\n",
      "b\n",
      "d\n",
      "f\n",
      "c\n",
      "e\n"
     ]
    }
   ],
   "source": [
    "graph = {\n",
    "    'a':['c','b'],\n",
    "    'b':['d'],\n",
    "    'c':['e'],\n",
    "    'd':['f'],\n",
    "    'e':[],\n",
    "    'f':[],\n",
    "}\n",
    "\n",
    "stack = ['a'] # current \n",
    "visited = set() #visited\n",
    "\n",
    "while stack:\n",
    "    node = stack.pop()\n",
    "    print(node)\n",
    "    if node not in visited:\n",
    "        visited.add(node)\n",
    "        for n in graph[node]:\n",
    "           stack.append(n)       \n",
    "\n",
    "    \n",
    "       \n",
    "        \n"
   ]
  },
  {
   "attachments": {},
   "cell_type": "markdown",
   "metadata": {},
   "source": [
    "BFS with queue(FIFO) directed graph"
   ]
  },
  {
   "cell_type": "code",
   "execution_count": 17,
   "metadata": {},
   "outputs": [
    {
     "name": "stdout",
     "output_type": "stream",
     "text": [
      "a\n",
      "c\n",
      "b\n",
      "e\n",
      "d\n",
      "f\n"
     ]
    }
   ],
   "source": [
    "from collections import deque\n",
    "s = deque()\n",
    "s.append('a')\n",
    "visited = set()\n",
    "\n",
    "while s:\n",
    "    node = s.popleft()\n",
    "    print(node)\n",
    "    if node not in visited:\n",
    "        visited.add(node)\n",
    "        for n in graph[node]:\n",
    "            s.append(n)\n"
   ]
  },
  {
   "attachments": {},
   "cell_type": "markdown",
   "metadata": {},
   "source": [
    "Number of connected component Leetcode 175 list"
   ]
  },
  {
   "attachments": {},
   "cell_type": "markdown",
   "metadata": {},
   "source": [
    "DFS"
   ]
  },
  {
   "cell_type": "code",
   "execution_count": 21,
   "metadata": {},
   "outputs": [
    {
     "data": {
      "text/plain": [
       "2"
      ]
     },
     "execution_count": 21,
     "metadata": {},
     "output_type": "execute_result"
    }
   ],
   "source": [
    "import collections\n",
    "\n",
    "\n",
    "n = 4\n",
    "edges = [[2,3],[1,2],[1,3]]\n",
    "# n = 5\n",
    "# edges = [[0,1],[1,2],[3,4]]\n",
    "\n",
    "def countComponents(n : int, edges : list)-> int:\n",
    "    \n",
    "    graph = collections.defaultdict(list)\n",
    "    \n",
    "    for start, end in edges:\n",
    "        graph[start].append(end)\n",
    "        graph[end].append(start)\n",
    "    \n",
    "    visited = set()\n",
    "    counter = 0\n",
    "    for key in range(n):\n",
    "        if key not in visited: \n",
    "            stack = [key]\n",
    "            while stack:\n",
    "                current = stack.pop()\n",
    "                for neighbor in graph[current]:\n",
    "                    if neighbor not in visited:\n",
    "                        stack.append(neighbor)\n",
    "                        visited.add(neighbor)\n",
    "\n",
    "            counter += 1\n",
    "    return counter\n",
    "countComponents(n,edges)        "
   ]
  },
  {
   "attachments": {},
   "cell_type": "markdown",
   "metadata": {},
   "source": [
    "largest component"
   ]
  },
  {
   "cell_type": "code",
   "execution_count": 27,
   "metadata": {},
   "outputs": [
    {
     "data": {
      "text/plain": [
       "3"
      ]
     },
     "execution_count": 27,
     "metadata": {},
     "output_type": "execute_result"
    }
   ],
   "source": [
    "import collections\n",
    "\n",
    "n = 4\n",
    "edges = [[2,3],[1,2],[1,3]]\n",
    "# n = 5\n",
    "# edges = [[0,1],[1,2],[3,4]]\n",
    "\n",
    "def countComponents(n : int, edges : list)-> int:\n",
    "    \n",
    "    graph = collections.defaultdict(list)\n",
    "    \n",
    "    for start, end in edges:\n",
    "        graph[start].append(end)\n",
    "        graph[end].append(start)\n",
    "    \n",
    "    visited = set()\n",
    "    res = 0\n",
    "    for key in range(n):\n",
    "        if key not in visited: \n",
    "            stack = [key]\n",
    "            counter =  0\n",
    "            while stack:\n",
    "                current = stack.pop()\n",
    "                for neighbor in graph[current]:\n",
    "                    if neighbor not in visited:\n",
    "                        counter += 1\n",
    "                        stack.append(neighbor)\n",
    "                        visited.add(neighbor)\n",
    "\n",
    "                \n",
    "            res  =  max(res, counter)   \n",
    "    return res\n",
    "countComponents(n,edges)        "
   ]
  },
  {
   "attachments": {},
   "cell_type": "markdown",
   "metadata": {},
   "source": [
    "BFS is best for getting shortest path"
   ]
  },
  {
   "cell_type": "code",
   "execution_count": 1,
   "metadata": {},
   "outputs": [
    {
     "name": "stdout",
     "output_type": "stream",
     "text": [
      "defaultdict(<class 'list'>, {'w': ['x', 'v'], 'x': ['w', 'y'], 'y': ['x', 'z'], 'z': ['y', 'v'], 'v': ['z', 'w']})\n"
     ]
    },
    {
     "data": {
      "text/plain": [
       "2"
      ]
     },
     "execution_count": 1,
     "metadata": {},
     "output_type": "execute_result"
    }
   ],
   "source": [
    "import collections\n",
    "\n",
    "def shortest_path(edges, node_A, node_B):\n",
    "  graph = collections.defaultdict(list)\n",
    "  pathCount = 0 \n",
    "  for start, end in edges:\n",
    "      graph[start].append(end)\n",
    "      graph[end].append(start)\n",
    "  pathCount = bfs(graph,node_A,node_B)\n",
    "  print(graph)\n",
    "  return pathCount\n",
    "        \n",
    "def bfs(graph,s,d):\n",
    "  # counter = 0\n",
    "  store =  collections.deque()\n",
    "  store.append((s,0))\n",
    "  visited  =  set()\n",
    "  while store:\n",
    "    current,dis = store.popleft()\n",
    "    if current == d:\n",
    "        return dis\n",
    "    if current not in visited:\n",
    "      visited.add(current)\n",
    "      for neighbor in graph[current]: \n",
    "        store.append((neighbor,dis + 1))\n",
    "  return -1        \n",
    "edges = [\n",
    "  ['w', 'x'],\n",
    "  ['x', 'y'],\n",
    "  ['z', 'y'],\n",
    "  ['z', 'v'],\n",
    "  ['w', 'v']\n",
    "]\n",
    "\n",
    "shortest_path(edges, 'w', 'z') # -> 2"
   ]
  },
  {
   "cell_type": "code",
   "execution_count": 13,
   "metadata": {},
   "outputs": [
    {
     "name": "stdout",
     "output_type": "stream",
     "text": [
      "{'y': [], 'w': ['x', 'v'], 'x': ['y'], 'z': ['y', 'v']}\n"
     ]
    },
    {
     "ename": "KeyError",
     "evalue": "'y'",
     "output_type": "error",
     "traceback": [
      "\u001b[1;31m---------------------------------------------------------------------------\u001b[0m",
      "\u001b[1;31mKeyError\u001b[0m                                  Traceback (most recent call last)",
      "\u001b[1;32m~\\AppData\\Local\\Temp/ipykernel_30624/1391013120.py\u001b[0m in \u001b[0;36m<module>\u001b[1;34m\u001b[0m\n\u001b[0;32m     37\u001b[0m     \u001b[0mstore\u001b[0m\u001b[1;33m.\u001b[0m\u001b[0mappend\u001b[0m\u001b[1;33m(\u001b[0m\u001b[0mn\u001b[0m\u001b[1;33m)\u001b[0m\u001b[1;33m\u001b[0m\u001b[1;33m\u001b[0m\u001b[0m\n\u001b[0;32m     38\u001b[0m     \u001b[1;32mreturn\u001b[0m \u001b[1;32mTrue\u001b[0m\u001b[1;33m\u001b[0m\u001b[1;33m\u001b[0m\u001b[0m\n\u001b[1;32m---> 39\u001b[1;33m \u001b[0mrun\u001b[0m\u001b[1;33m(\u001b[0m\u001b[1;33m)\u001b[0m\u001b[1;33m\u001b[0m\u001b[1;33m\u001b[0m\u001b[0m\n\u001b[0m",
      "\u001b[1;32m~\\AppData\\Local\\Temp/ipykernel_30624/1391013120.py\u001b[0m in \u001b[0;36mrun\u001b[1;34m()\u001b[0m\n\u001b[0;32m     18\u001b[0m \u001b[1;32mdef\u001b[0m \u001b[0mrun\u001b[0m\u001b[1;33m(\u001b[0m\u001b[1;33m)\u001b[0m\u001b[1;33m:\u001b[0m\u001b[1;33m\u001b[0m\u001b[1;33m\u001b[0m\u001b[0m\n\u001b[0;32m     19\u001b[0m     \u001b[0mdevGraph\u001b[0m\u001b[1;33m(\u001b[0m\u001b[0medges\u001b[0m\u001b[1;33m)\u001b[0m\u001b[1;33m\u001b[0m\u001b[1;33m\u001b[0m\u001b[0m\n\u001b[1;32m---> 20\u001b[1;33m     \u001b[1;32mif\u001b[0m \u001b[0mdfs\u001b[0m\u001b[1;33m(\u001b[0m\u001b[1;34m'w'\u001b[0m\u001b[1;33m)\u001b[0m \u001b[1;33m==\u001b[0m \u001b[1;32mFalse\u001b[0m\u001b[1;33m:\u001b[0m\u001b[1;33m\u001b[0m\u001b[1;33m\u001b[0m\u001b[0m\n\u001b[0m\u001b[0;32m     21\u001b[0m         \u001b[1;32mreturn\u001b[0m \u001b[1;33m[\u001b[0m\u001b[1;33m]\u001b[0m\u001b[1;33m\u001b[0m\u001b[1;33m\u001b[0m\u001b[0m\n\u001b[0;32m     22\u001b[0m     \u001b[1;32mreturn\u001b[0m \u001b[0mstore\u001b[0m\u001b[1;33m\u001b[0m\u001b[1;33m\u001b[0m\u001b[0m\n",
      "\u001b[1;32m~\\AppData\\Local\\Temp/ipykernel_30624/1391013120.py\u001b[0m in \u001b[0;36mdfs\u001b[1;34m(n)\u001b[0m\n\u001b[0;32m     31\u001b[0m         \u001b[1;32mreturn\u001b[0m \u001b[1;32mTrue\u001b[0m\u001b[1;33m\u001b[0m\u001b[1;33m\u001b[0m\u001b[0m\n\u001b[0;32m     32\u001b[0m     \u001b[1;32mfor\u001b[0m \u001b[0mnei\u001b[0m \u001b[1;32min\u001b[0m \u001b[0mgraph\u001b[0m\u001b[1;33m[\u001b[0m\u001b[0mn\u001b[0m\u001b[1;33m]\u001b[0m\u001b[1;33m:\u001b[0m\u001b[1;33m\u001b[0m\u001b[1;33m\u001b[0m\u001b[0m\n\u001b[1;32m---> 33\u001b[1;33m         \u001b[1;32mif\u001b[0m \u001b[0mdfs\u001b[0m\u001b[1;33m(\u001b[0m\u001b[0mnei\u001b[0m\u001b[1;33m)\u001b[0m \u001b[1;33m==\u001b[0m  \u001b[1;32mFalse\u001b[0m\u001b[1;33m:\u001b[0m\u001b[1;33m\u001b[0m\u001b[1;33m\u001b[0m\u001b[0m\n\u001b[0m\u001b[0;32m     34\u001b[0m             \u001b[1;32mreturn\u001b[0m \u001b[1;32mFalse\u001b[0m\u001b[1;33m\u001b[0m\u001b[1;33m\u001b[0m\u001b[0m\n\u001b[0;32m     35\u001b[0m     \u001b[0mcycle\u001b[0m\u001b[1;33m.\u001b[0m\u001b[0mremove\u001b[0m\u001b[1;33m(\u001b[0m\u001b[0mn\u001b[0m\u001b[1;33m)\u001b[0m\u001b[1;33m\u001b[0m\u001b[1;33m\u001b[0m\u001b[0m\n",
      "\u001b[1;32m~\\AppData\\Local\\Temp/ipykernel_30624/1391013120.py\u001b[0m in \u001b[0;36mdfs\u001b[1;34m(n)\u001b[0m\n\u001b[0;32m     31\u001b[0m         \u001b[1;32mreturn\u001b[0m \u001b[1;32mTrue\u001b[0m\u001b[1;33m\u001b[0m\u001b[1;33m\u001b[0m\u001b[0m\n\u001b[0;32m     32\u001b[0m     \u001b[1;32mfor\u001b[0m \u001b[0mnei\u001b[0m \u001b[1;32min\u001b[0m \u001b[0mgraph\u001b[0m\u001b[1;33m[\u001b[0m\u001b[0mn\u001b[0m\u001b[1;33m]\u001b[0m\u001b[1;33m:\u001b[0m\u001b[1;33m\u001b[0m\u001b[1;33m\u001b[0m\u001b[0m\n\u001b[1;32m---> 33\u001b[1;33m         \u001b[1;32mif\u001b[0m \u001b[0mdfs\u001b[0m\u001b[1;33m(\u001b[0m\u001b[0mnei\u001b[0m\u001b[1;33m)\u001b[0m \u001b[1;33m==\u001b[0m  \u001b[1;32mFalse\u001b[0m\u001b[1;33m:\u001b[0m\u001b[1;33m\u001b[0m\u001b[1;33m\u001b[0m\u001b[0m\n\u001b[0m\u001b[0;32m     34\u001b[0m             \u001b[1;32mreturn\u001b[0m \u001b[1;32mFalse\u001b[0m\u001b[1;33m\u001b[0m\u001b[1;33m\u001b[0m\u001b[0m\n\u001b[0;32m     35\u001b[0m     \u001b[0mcycle\u001b[0m\u001b[1;33m.\u001b[0m\u001b[0mremove\u001b[0m\u001b[1;33m(\u001b[0m\u001b[0mn\u001b[0m\u001b[1;33m)\u001b[0m\u001b[1;33m\u001b[0m\u001b[1;33m\u001b[0m\u001b[0m\n",
      "\u001b[1;32m~\\AppData\\Local\\Temp/ipykernel_30624/1391013120.py\u001b[0m in \u001b[0;36mdfs\u001b[1;34m(n)\u001b[0m\n\u001b[0;32m     33\u001b[0m         \u001b[1;32mif\u001b[0m \u001b[0mdfs\u001b[0m\u001b[1;33m(\u001b[0m\u001b[0mnei\u001b[0m\u001b[1;33m)\u001b[0m \u001b[1;33m==\u001b[0m  \u001b[1;32mFalse\u001b[0m\u001b[1;33m:\u001b[0m\u001b[1;33m\u001b[0m\u001b[1;33m\u001b[0m\u001b[0m\n\u001b[0;32m     34\u001b[0m             \u001b[1;32mreturn\u001b[0m \u001b[1;32mFalse\u001b[0m\u001b[1;33m\u001b[0m\u001b[1;33m\u001b[0m\u001b[0m\n\u001b[1;32m---> 35\u001b[1;33m     \u001b[0mcycle\u001b[0m\u001b[1;33m.\u001b[0m\u001b[0mremove\u001b[0m\u001b[1;33m(\u001b[0m\u001b[0mn\u001b[0m\u001b[1;33m)\u001b[0m\u001b[1;33m\u001b[0m\u001b[1;33m\u001b[0m\u001b[0m\n\u001b[0m\u001b[0;32m     36\u001b[0m     \u001b[0mvisited\u001b[0m\u001b[1;33m.\u001b[0m\u001b[0madd\u001b[0m\u001b[1;33m(\u001b[0m\u001b[0mn\u001b[0m\u001b[1;33m)\u001b[0m\u001b[1;33m\u001b[0m\u001b[1;33m\u001b[0m\u001b[0m\n\u001b[0;32m     37\u001b[0m     \u001b[0mstore\u001b[0m\u001b[1;33m.\u001b[0m\u001b[0mappend\u001b[0m\u001b[1;33m(\u001b[0m\u001b[0mn\u001b[0m\u001b[1;33m)\u001b[0m\u001b[1;33m\u001b[0m\u001b[1;33m\u001b[0m\u001b[0m\n",
      "\u001b[1;31mKeyError\u001b[0m: 'y'"
     ]
    }
   ],
   "source": [
    "edges = [\n",
    "  ['w', 'x'],\n",
    "  ['x', 'y'],\n",
    "  ['z', 'y'],\n",
    "  ['z', 'v'],\n",
    "  ['w', 'v']\n",
    "]\n",
    "graph = {'y': []}\n",
    "\n",
    "def devGraph(arr):\n",
    "    for s,d in arr:\n",
    "        if s not in graph:\n",
    "            graph[s] = [d]\n",
    "        else:    \n",
    "            graph[s].append(d) \n",
    "    print(graph)               \n",
    "    return graph\n",
    "def run():\n",
    "    devGraph(edges)\n",
    "    for i in graph:\n",
    "        if dfs(i) == False:\n",
    "            return []\n",
    "        return store    \n",
    "visited = set()\n",
    "cycle = set()\n",
    "store = []\n",
    "\n",
    "def dfs(n):\n",
    "    if n in cycle:\n",
    "        return False\n",
    "    if n in visited:\n",
    "        return True        \n",
    "    for nei in graph[n]:\n",
    "        if dfs(nei) ==  False:\n",
    "            return False\n",
    "    cycle.remove(n)\n",
    "    visited.add(n)\n",
    "    store.append(n)    \n",
    "    return True    \n",
    "run()"
   ]
  },
  {
   "cell_type": "code",
   "execution_count": 9,
   "metadata": {},
   "outputs": [
    {
     "name": "stdout",
     "output_type": "stream",
     "text": [
      "a\n",
      "b\n",
      "d\n",
      "f\n",
      "c\n",
      "e\n"
     ]
    }
   ],
   "source": [
    "# DFS code Practice\n",
    "#abdfce\n",
    "graphRev = {\n",
    "    'a':['c','b'],\n",
    "    'b':['d'],\n",
    "    'c':['e'],\n",
    "    'd':['f'],\n",
    "    'e':[],\n",
    "    'f':[],\n",
    "}\n",
    "stack = ['a']\n",
    "visited = set()\n",
    "\n",
    "while stack:\n",
    "    node  = stack.pop()\n",
    "    print(node)\n",
    "    if node not in visited:\n",
    "        visited.add(node)\n",
    "        for adjNode in graphRev[node]:\n",
    "            stack.append(adjNode)"
   ]
  },
  {
   "cell_type": "code",
   "execution_count": 10,
   "metadata": {},
   "outputs": [
    {
     "name": "stdout",
     "output_type": "stream",
     "text": [
      "a\n",
      "c\n",
      "b\n",
      "e\n",
      "d\n",
      "f\n"
     ]
    }
   ],
   "source": [
    "# BFS code practice\n",
    "#abcdef\n",
    "import collections\n",
    "q = collections.deque('a')\n",
    "visited = set()\n",
    "\n",
    "while q:\n",
    "    node  = q.popleft()\n",
    "    print(node)\n",
    "    if node not in visited:\n",
    "        visited.add(node)\n",
    "        for adjNode in graphRev[node]:\n",
    "            q.append(adjNode)  "
   ]
  },
  {
   "cell_type": "code",
   "execution_count": 22,
   "metadata": {},
   "outputs": [
    {
     "data": {
      "text/plain": [
       "1"
      ]
     },
     "execution_count": 22,
     "metadata": {},
     "output_type": "execute_result"
    }
   ],
   "source": [
    "#shortest Path practice\n",
    "# graphS = {'f': ['g', 'i'],'g': ['h'],'h': [],'i': ['g', 'k'], 'j': ['i'], 'k': []}\n",
    "def constructGraph(edge):\n",
    "    graph = collections.defaultdict(list)\n",
    "    for s,e in edge:\n",
    "        graph[s].append(e)\n",
    "        graph[e].append(s)\n",
    "    shortCount = shortestPath(graph,'y','x')\n",
    "    return shortCount\n",
    "\n",
    "\n",
    "def shortestPath(graph,s,d):\n",
    "    q = collections.deque()\n",
    "    q.append((s,0))\n",
    "    visited = set()\n",
    "    while q:\n",
    "        curr,dis = q.popleft()\n",
    "        if curr == d:\n",
    "            return dis\n",
    "        if curr not in visited:\n",
    "            visited.add(curr)\n",
    "            for adjNode in graph[curr]:\n",
    "                q.append((adjNode,dis + 1))\n",
    "\n",
    "edges = [\n",
    "  ['w', 'x'],\n",
    "  ['x', 'y'],\n",
    "  ['z', 'y'],\n",
    "  ['z', 'v'],\n",
    "  ['w', 'v']\n",
    "]\n",
    "constructGraph(edges)\n"
   ]
  }
 ],
 "metadata": {
  "kernelspec": {
   "display_name": "Python 3",
   "language": "python",
   "name": "python3"
  },
  "language_info": {
   "codemirror_mode": {
    "name": "ipython",
    "version": 3
   },
   "file_extension": ".py",
   "mimetype": "text/x-python",
   "name": "python",
   "nbconvert_exporter": "python",
   "pygments_lexer": "ipython3",
   "version": "3.10.0"
  },
  "orig_nbformat": 4,
  "vscode": {
   "interpreter": {
    "hash": "369f2c481f4da34e4445cda3fffd2e751bd1c4d706f27375911949ba6bb62e1c"
   }
  }
 },
 "nbformat": 4,
 "nbformat_minor": 2
}
