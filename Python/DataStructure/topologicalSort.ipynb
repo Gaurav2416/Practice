{
 "cells": [
  {
   "cell_type": "code",
   "execution_count": 13,
   "metadata": {},
   "outputs": [
    {
     "data": {
      "text/plain": [
       "{'w': ['x', 'v'],\n",
       " 'x': ['w', 'y'],\n",
       " 'y': ['x', 'z'],\n",
       " 'z': ['y', 'v'],\n",
       " 'v': ['z', 'w']}"
      ]
     },
     "execution_count": 13,
     "metadata": {},
     "output_type": "execute_result"
    }
   ],
   "source": [
    "ip  = [\n",
    "  ['w', 'x'],\n",
    "  ['x', 'y'],\n",
    "  ['z', 'y'],\n",
    "  ['z', 'v'],\n",
    "  ['w', 'v']\n",
    "]\n",
    "graph = {}\n",
    "for i in ip:\n",
    "    if i[0] not in graph:\n",
    "        graph[i[0]] = [i[1]]\n",
    "    else:\n",
    "        graph[i[0]].append(i[1]) \n",
    "        \n",
    "    if i[1] not in graph:\n",
    "        graph[i[1]] = [i[0]]\n",
    "    else:\n",
    "        graph[i[1]].append(i[0])       \n",
    "\n",
    "graph        "
   ]
  },
  {
   "cell_type": "code",
   "execution_count": 14,
   "metadata": {},
   "outputs": [
    {
     "data": {
      "text/plain": [
       "defaultdict(list,\n",
       "            {'w': ['x', 'v'],\n",
       "             'x': ['w', 'y'],\n",
       "             'y': ['x', 'z'],\n",
       "             'z': ['y', 'v'],\n",
       "             'v': ['z', 'w']})"
      ]
     },
     "execution_count": 14,
     "metadata": {},
     "output_type": "execute_result"
    }
   ],
   "source": [
    "import collections\n",
    "\n",
    "graph1 = collections.defaultdict(list)\n",
    "\n",
    "for i in ip:\n",
    "    graph1[i[0]].append(i[1])\n",
    "    graph1[i[1]].append(i[0])\n",
    "graph1    "
   ]
  },
  {
   "cell_type": "code",
   "execution_count": 15,
   "metadata": {},
   "outputs": [
    {
     "name": "stdout",
     "output_type": "stream",
     "text": [
      "w\n",
      "v\n",
      "z\n",
      "y\n",
      "x\n"
     ]
    }
   ],
   "source": [
    "store = ['w']\n",
    "visited = set(['w'])\n",
    "while store:\n",
    "    currentNode = store.pop()\n",
    "    print(currentNode)\n",
    "    for nei in graph[currentNode]:\n",
    "        if nei not in visited:\n",
    "            visited.add(nei)\n",
    "            store.append(nei)"
   ]
  },
  {
   "cell_type": "code",
   "execution_count": 18,
   "metadata": {},
   "outputs": [
    {
     "name": "stdout",
     "output_type": "stream",
     "text": [
      "w\n",
      "x\n",
      "v\n",
      "y\n",
      "z\n"
     ]
    }
   ],
   "source": [
    "que = collections.deque(['w'])\n",
    "visited = set(['w'])\n",
    "while que:\n",
    "    curr = que.popleft()\n",
    "    print(curr)\n",
    "    for nei in graph[curr]:\n",
    "        if nei not in visited:\n",
    "            visited.add(nei)\n",
    "            que.append(nei)"
   ]
  },
  {
   "attachments": {},
   "cell_type": "markdown",
   "metadata": {},
   "source": [
    "Topological uses indegree of node  the root node will always have indegree 0. The graph should be DAG(direceted acyclic graph). When visited the node remove the node and move to next node with indegree 0\n",
    "\n",
    "For BFS, we need an array indegree to keep the track of indegrees. Then we will try to output all nodes with 0 indegree, and remove the edges coming out of them at the same time. Besides, remember to put the nodes that become 0 indegree in the queue.\n",
    "\n",
    "Then, we can keep doing this until all nodes are visited. To implement it, we can store the graph in an adjacent list (a hashmap or a dictionary in Python) and a queue to loop.\n",
    "\n",
    "\n",
    "The key observation is that, leaf nodes should always come after their parents and ancestors. Following this intuition we can apply DFS and output nodes from leaves to the root.\n",
    "\n",
    "We need to implement a boolean array visited so that visited[i] indicates if we have visited vertex i. For each unvisited node, we would first mark it as visited and call DFS() to start searching its neighbours. After finishing this, we can insert it to the front of a list. After visiting all nodes, we can return that list."
   ]
  },
  {
   "cell_type": "code",
   "execution_count": null,
   "metadata": {},
   "outputs": [],
   "source": [
    "def topological_sort():\n",
    "    for each node:\n",
    "        if visited[node] is False:\n",
    "            dfs(node)\n",
    "\n",
    "    def dfs(node):\n",
    "    visited[node] = True\n",
    "    for nei in neighbours[node]:\n",
    "        dfs(node)\n",
    "    if visited(node) = false:\n",
    "        ret.insert_at_the _front(node)"
   ]
  },
  {
   "cell_type": "code",
   "execution_count": 34,
   "metadata": {},
   "outputs": [
    {
     "data": {
      "text/plain": [
       "2"
      ]
     },
     "execution_count": 34,
     "metadata": {},
     "output_type": "execute_result"
    }
   ],
   "source": [
    "e  = [[3,1],[3,2]]\n",
    "n = 3\n",
    "\n",
    "def cal(n,e):\n",
    "    graph = {i:[] for i in range(1,n + 1)}\n",
    "    indegree = {i:0 for i in range(1, n+1)}\n",
    "    for crs,pre in e:\n",
    "        graph[pre].append(crs)\n",
    "        indegree[crs] += 1\n",
    "    import collections\n",
    "    res = 0\n",
    "    visited = 0\n",
    "    q = collections.deque()\n",
    "    for crs,val in indegree.items():\n",
    "        if val == 0:\n",
    "            q.append(crs)\n",
    "    while q:\n",
    "        res += 1\n",
    "        for _ in range(len(q)):\n",
    "            curr = q.popleft()\n",
    "            visited += 1\n",
    "            for nei in graph[curr]:\n",
    "                indegree[nei] -= 1\n",
    "\n",
    "                if indegree[nei] == 0:\n",
    "                    q.append(nei)\n",
    "    return res if visited == n else -1\n",
    "\n",
    "                 \n",
    " \n",
    "\n",
    "\n",
    "cal(n,e)"
   ]
  },
  {
   "cell_type": "code",
   "execution_count": 4,
   "metadata": {},
   "outputs": [
    {
     "name": "stdout",
     "output_type": "stream",
     "text": [
      "[3, 0, 2, 4, 6]\n"
     ]
    }
   ],
   "source": [
    "def anagram_difference(s1, s2):\n",
    "    s1_count = [0] * 26\n",
    "    s2_count = [0] * 26\n",
    "    for c in s1:\n",
    "        s1_count[ord(c) - ord('a')] += 1\n",
    "    for c in s2:\n",
    "        s2_count[ord(c) - ord('a')] += 1\n",
    "    result = 0\n",
    "    for i in range(26):\n",
    "        result += abs(s1_count[i] - s2_count[i])\n",
    "    return result\n",
    "s1 = ['a','jk','abb','mn','abc']\n",
    "s2 = ['bb','kj','bbc','op','def']\n",
    "result= []\n",
    "for i in range(len(s1)):\n",
    "    result.append(anagram_difference(s1[i],s2[i]))\n",
    "print(result)    "
   ]
  },
  {
   "cell_type": "code",
   "execution_count": 5,
   "metadata": {},
   "outputs": [
    {
     "data": {
      "text/plain": [
       "[-1, 0, 1, 2, 3]"
      ]
     },
     "execution_count": 5,
     "metadata": {},
     "output_type": "execute_result"
    }
   ],
   "source": [
    "def anagram_difference1(a, b):\n",
    "    result = []\n",
    "    for i in range(len(a)):\n",
    "        if len(a[i]) != len(b[i]):\n",
    "            result.append(-1)\n",
    "        else:\n",
    "            s1 = [0] * 26\n",
    "            s2 = [0] * 26\n",
    "            for c in a[i]:\n",
    "                s1[ord(c) - ord('a')] += 1\n",
    "            for c in b[i]:\n",
    "                s2[ord(c) - ord('a')] += 1\n",
    "            count = 0\n",
    "            for j in range(26):\n",
    "                count += abs(s1[j] - s2[j])\n",
    "            result.append(count // 2)\n",
    "    return result\n",
    "anagram_difference1(s1,s2)"
   ]
  },
  {
   "cell_type": "code",
   "execution_count": 7,
   "metadata": {},
   "outputs": [
    {
     "data": {
      "text/plain": [
       "3"
      ]
     },
     "execution_count": 7,
     "metadata": {},
     "output_type": "execute_result"
    }
   ],
   "source": [
    "def consecutive(num):\n",
    "    count = 0\n",
    "    for i in range(1, int(num / 2) + 1):\n",
    "        cur_sum = 0\n",
    "        j = i\n",
    "        while cur_sum < num:\n",
    "            cur_sum += j\n",
    "            j += 1\n",
    "        if cur_sum == num:\n",
    "            count += 1\n",
    "    return count\n",
    "consecutive(21)    "
   ]
  },
  {
   "cell_type": "code",
   "execution_count": 8,
   "metadata": {},
   "outputs": [
    {
     "data": {
      "text/plain": [
       "0"
      ]
     },
     "execution_count": 8,
     "metadata": {},
     "output_type": "execute_result"
    }
   ],
   "source": [
    "def consecutive1(num):\n",
    "    count = 0\n",
    "    for i in range(1, int(num ** 0.5) + 1):\n",
    "        if num % i == 0:\n",
    "            n = num // i\n",
    "            if n > i and (n - i) % 2 == 1:\n",
    "                count += 1\n",
    "            if i > 1 and n * 2 == num:\n",
    "                count += 1\n",
    "    return count\n",
    "consecutive1(15)"
   ]
  },
  {
   "cell_type": "code",
   "execution_count": 13,
   "metadata": {},
   "outputs": [
    {
     "data": {
      "text/plain": [
       "4"
      ]
     },
     "execution_count": 13,
     "metadata": {},
     "output_type": "execute_result"
    }
   ],
   "source": [
    "from math import ceil\n",
    "\n",
    "\n",
    "def consecutiveNumbersSum(N: int) -> int:\n",
    "    count = 0\n",
    "    upper_limit = ceil((2 * N + 0.25)**0.5 - 0.5) + 1\n",
    "    for k in range(1, upper_limit):\n",
    "        N -= k\n",
    "        if N % k == 0:\n",
    "            count += 1\n",
    "    return count\n",
    "consecutiveNumbersSum(15)    "
   ]
  },
  {
   "cell_type": "code",
   "execution_count": 14,
   "metadata": {},
   "outputs": [
    {
     "name": "stdout",
     "output_type": "stream",
     "text": [
      "768\n"
     ]
    }
   ],
   "source": [
    "def binary_array_to_number(state):\n",
    "    return int(\"\".join(str(x) for x in state), 2)\n",
    "\n",
    "def number_to_binary_array(number, length):\n",
    "    return [int(x) for x in bin(number)[2:].zfill(length)]\n",
    "\n",
    "def apply_operations(state, operations):\n",
    "    for op in operations:\n",
    "        if op == \"L\":\n",
    "            try:\n",
    "                i = state.index(0)\n",
    "                state[i] = 1\n",
    "            except ValueError:\n",
    "                pass\n",
    "        else:\n",
    "            i = int(op[1:])\n",
    "            state[i] = 0\n",
    "    return state\n",
    "\n",
    "def solve(state, operations):\n",
    "    state = number_to_binary_array(binary_array_to_number(state), len(state))\n",
    "    state = apply_operations(state, operations)\n",
    "    return binary_array_to_number(state)\n"
   ]
  },
  {
   "cell_type": "code",
   "execution_count": 28,
   "metadata": {},
   "outputs": [
    {
     "name": "stdout",
     "output_type": "stream",
     "text": [
      "10\n"
     ]
    }
   ],
   "source": [
    "def solution(state, operations):\n",
    "    for op in operations:\n",
    "        if op == \"L\":\n",
    "            try:\n",
    "                i = state.index(0)\n",
    "                state[i] = 1\n",
    "            except ValueError:\n",
    "                pass\n",
    "        else:\n",
    "            i = int(op[1:])\n",
    "            state[i] = 0\n",
    "    return \"\".join(str(x) for x in state)\n",
    "\n",
    "# print(solution([0,0,0,0,0,0,0,0,0,0],[\"L\",\"L\",\"c0\",\"L\",\"c3\"]))\n",
    "print(solution([1,0],[\"L\",\"L\",\"c1\"]))\n"
   ]
  },
  {
   "cell_type": "code",
   "execution_count": null,
   "metadata": {},
   "outputs": [],
   "source": [
    "\n",
    "def wordsTyping(self, sentence, rows, cols):\n",
    "    n = len(sentence)\n",
    "    def dfs(i):\n",
    "        c, count = 0, 0\n",
    "\n",
    "        while c + len(sentence[i]) <= cols:\n",
    "            c += len(sentence[i]) + 1\n",
    "            i += 1\n",
    "\n",
    "            if i == n:\n",
    "                count += 1\n",
    "                i = 0\n",
    "\n",
    "        return i, count\n",
    "\n",
    "    total, index = 0, 0\n",
    "\n",
    "    for _ in range(rows):\n",
    "        total += dfs(index)[1]\n",
    "        index = dfs(index)[0]\n",
    "\n",
    "    return total\n",
    "\n",
    "m= [[1]]\n",
    "wordsTyping()"
   ]
  },
  {
   "cell_type": "code",
   "execution_count": null,
   "metadata": {},
   "outputs": [],
   "source": [
    "def renderConversation(messages, width, userwidth):\n",
    "    conversation = []\n",
    "    for message in messages:\n",
    "        user, text = message[0], message[1]\n",
    "    words = text.split()\n",
    "    line = user + \": \"\n",
    "    for word in words:\n",
    "    if len(line) + len(word) + 1 <= userwidth:\n",
    "    line += word + \" \"\n",
    "    else:\n",
    "    conversation.append(line)\n",
    "    line = \" \" * (len(user) + 2) + word + \" \"\n",
    "    conversation.append(line)\n",
    "    return conversation"
   ]
  },
  {
   "cell_type": "code",
   "execution_count": 6,
   "metadata": {},
   "outputs": [
    {
     "data": {
      "text/plain": [
       "2"
      ]
     },
     "execution_count": 6,
     "metadata": {},
     "output_type": "execute_result"
    }
   ],
   "source": [
    "\n",
    "def totalFruit(fruits: list) -> int:\n",
    "        check =  set()\n",
    "        counter = 0\n",
    "        total = 0\n",
    "        i = 0\n",
    "        j = 0\n",
    "        while j < len(fruits):\n",
    "            while len(check) < 2 :\n",
    "                if fruits[j] in check:\n",
    "                    counter += 1\n",
    "                else:    \n",
    "                    check.add(fruits[j])\n",
    "                    counter += 1\n",
    "                if j + 1 < len(fruits):\n",
    "                    j += 1\n",
    "            else:\n",
    "                total = max(total, counter)\n",
    "                counter = 0\n",
    "                i += 1\n",
    "                j = i\n",
    "        return total\n",
    "totalFruit([1,2,1])        "
   ]
  }
 ],
 "metadata": {
  "kernelspec": {
   "display_name": "Python 3",
   "language": "python",
   "name": "python3"
  },
  "language_info": {
   "codemirror_mode": {
    "name": "ipython",
    "version": 3
   },
   "file_extension": ".py",
   "mimetype": "text/x-python",
   "name": "python",
   "nbconvert_exporter": "python",
   "pygments_lexer": "ipython3",
   "version": "3.10.0"
  },
  "orig_nbformat": 4,
  "vscode": {
   "interpreter": {
    "hash": "369f2c481f4da34e4445cda3fffd2e751bd1c4d706f27375911949ba6bb62e1c"
   }
  }
 },
 "nbformat": 4,
 "nbformat_minor": 2
}
