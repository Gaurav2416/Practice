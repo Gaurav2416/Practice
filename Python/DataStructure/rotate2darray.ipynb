{
 "cells": [
  {
   "attachments": {},
   "cell_type": "markdown",
   "metadata": {},
   "source": [
    "Rotate 2d array "
   ]
  },
  {
   "cell_type": "code",
   "execution_count": 3,
   "metadata": {},
   "outputs": [],
   "source": [
    "arr = [[1,2,3],[4,5,6],[7,8,9]]\n",
    "def rotate(matrix):\n",
    "    res = []\n",
    "    workingarr=[]\n",
    "    top,bottom = 0, len(arr) - 1\n",
    "    right, left= len(arr[top]) - 1,0\n",
    "    \n",
    "\n",
    "    \n",
    "\n",
    "rotate(arr)        "
   ]
  },
  {
   "attachments": {},
   "cell_type": "markdown",
   "metadata": {},
   "source": [
    "Rotate Array"
   ]
  },
  {
   "cell_type": "code",
   "execution_count": 4,
   "metadata": {},
   "outputs": [
    {
     "data": {
      "text/plain": [
       "[5, 6, 7, 1, 2, 3, 4]"
      ]
     },
     "execution_count": 4,
     "metadata": {},
     "output_type": "execute_result"
    }
   ],
   "source": [
    "arr1d = [1,2,3,4,5,6,7]\n",
    "k= 3\n",
    "def r(nums,k):\n",
    "    i = 0\n",
    "    while i < k:\n",
    "        res = [0 * i for i in range(len(nums))]\n",
    "        for index in range(len(nums)):\n",
    "            if index + 1 < len(nums):\n",
    "                res[index + 1] =  nums[index]\n",
    "        res[0] = nums[-1]\n",
    "        nums = res   \n",
    "        i += 1\n",
    "    return nums    \n",
    "r(arr1d,k)   \n"
   ]
  },
  {
   "cell_type": "code",
   "execution_count": 23,
   "metadata": {},
   "outputs": [
    {
     "data": {
      "text/plain": [
       "2"
      ]
     },
     "execution_count": 23,
     "metadata": {},
     "output_type": "execute_result"
    }
   ],
   "source": [
    "7%5"
   ]
  },
  {
   "cell_type": "code",
   "execution_count": null,
   "metadata": {},
   "outputs": [],
   "source": [
    "class ListNode:\n",
    "    def __init__(self,val):\n",
    "        self.val = val\n",
    "        self.next = None\n",
    "class CreatingList:\n",
    "    def __init__(self) -> None:\n",
    "        self.size = 0\n",
    "        self.head = ListNode(0)\n",
    "    def get(index):\n",
    "        if index < 0 or index >= self.size:\n",
    "            return -1 \n",
    "        curr = self.head\n",
    "        for _ in range(index + 1):\n",
    "            curr = curr.next\n",
    "        return curr.val    \n",
    "        \n",
    "    def addAtIndex(index):\n",
    "        if index < 0: \n",
    "            return 0\n",
    "        if index > self.size:\n",
    "            return\n",
    "        \n",
    "        self.size += 1\n",
    "        curr = curr.head\n",
    "        for _ in range(index):\n",
    "            curr = curr.next\n",
    "        addValue = ListNode(val)\n",
    "        addValue.next = curr.next\n",
    "        curr.next = addValue\n",
    "\n",
    "    def deleteAtIndex(index):\n",
    "\n",
    "        if index > self.size or index < 0:\n",
    "            return\n",
    "        self.size -= 1\n",
    "        curr = self.head\n",
    "        for _ in range(index):\n",
    "            curr = curr.next\n",
    "        curr.next = curr.next.next    "
   ]
  }
 ],
 "metadata": {
  "kernelspec": {
   "display_name": "Python 3",
   "language": "python",
   "name": "python3"
  },
  "language_info": {
   "codemirror_mode": {
    "name": "ipython",
    "version": 3
   },
   "file_extension": ".py",
   "mimetype": "text/x-python",
   "name": "python",
   "nbconvert_exporter": "python",
   "pygments_lexer": "ipython3",
   "version": "3.10.0"
  },
  "orig_nbformat": 4,
  "vscode": {
   "interpreter": {
    "hash": "369f2c481f4da34e4445cda3fffd2e751bd1c4d706f27375911949ba6bb62e1c"
   }
  }
 },
 "nbformat": 4,
 "nbformat_minor": 2
}
