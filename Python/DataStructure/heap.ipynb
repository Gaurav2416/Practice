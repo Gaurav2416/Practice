{
 "cells": [
  {
   "attachments": {},
   "cell_type": "markdown",
   "metadata": {},
   "source": [
    "Heap\n",
    "\n",
    "According to Wikipedia, a Heap is a special type of binary tree. A heap is a binary tree that meets the following criteria:\n",
    "\n",
    "Is a complete binary tree;\n",
    "The value of each node must be no greater than (or no less than) the value of its child nodes.\n",
    "A Heap has the following properties:\n",
    "\n",
    "Insertion of an element into the Heap has a time complexity of O(log N);\n",
    "Deletion of an element from the Heap has a time complexity of O(logN);\n",
    "The maximum/minimum value in the Heap can be obtained with O(1) time complexity.\n",
    "\n",
    "Classification of Heap\n",
    "There are two kinds of heaps: Max Heap and Min Heap.\n",
    "\n",
    "Max Heap: Each node in the Heap has a value no less than its child nodes. Therefore, the top element (root node) has the largest value in the Heap.\n",
    "\n",
    "Min Heap: Each node in the Heap has a value no larger than its child nodes. Therefore, the top element (root node) has the smallest value in the Heap.\n",
    "\n"
   ]
  },
  {
   "attachments": {},
   "cell_type": "markdown",
   "metadata": {},
   "source": [
    "\n",
    "INSERTION:\n",
    "Insertion means adding an element to the Heap. After inserting the element, the properties of the Heap should remain unchanged.\n",
    "\n",
    " 1. complete binary tree\n",
    " 2. if max child node value <= parent value or if min child node value >= parent value\n",
    "\n",
    " Note :\n",
    " Insert the value from the left side of the tree at level where there is space\n"
   ]
  },
  {
   "attachments": {},
   "cell_type": "markdown",
   "metadata": {},
   "source": [
    "DELETION:\n",
    "\n",
    "Deletion means removing the “top” element from the Heap. After deleting the element, the property of Heap should remain unchanged.\n",
    "\n",
    "Move the bottom right most element and move to the top of the element\n",
    "Now remove the element and check the max heap properties if it is max heap or min heap properties if it is min heap."
   ]
  },
  {
   "attachments": {},
   "cell_type": "markdown",
   "metadata": {},
   "source": [
    "Implementation(convert tree to array):\n",
    "\n",
    "1. Store the tree in array\n",
    "2. Parent Node = n/2\n",
    "3. child node =  a. left child = n * 2  b. right child = n*2+1\n",
    "4. leaf node = i > n/2\n",
    "5. 0 index will always have number of nodes of the tree"
   ]
  },
  {
   "cell_type": "code",
   "execution_count": 2,
   "metadata": {},
   "outputs": [
    {
     "name": "stdout",
     "output_type": "stream",
     "text": [
      "[1, 3, 2]\n",
      "1\n",
      "1\n",
      "2\n",
      "3\n",
      "[4, 5]\n"
     ]
    }
   ],
   "source": [
    "# Implementing \"Min Heap\"\n",
    "class MinHeap:\n",
    "    def __init__(self, heapSize):\n",
    "        # Create a complete binary tree using an array\n",
    "        # Then use the binary tree to construct a Heap\n",
    "        self.heapSize = heapSize\n",
    "        # the number of elements is needed when instantiating an array\n",
    "        # heapSize records the size of the array\n",
    "        self.minheap = [0] * (heapSize + 1)\n",
    "        # realSize records the number of elements in the Heap\n",
    "        self.realSize = 0\n",
    "\n",
    "    # Function to add an element\n",
    "    def add(self, element):\n",
    "        self.realSize += 1\n",
    "        # If the number of elements in the Heap exceeds the preset heapSize\n",
    "        # print \"Added too many elements\" and return\n",
    "        if self.realSize > self.heapSize:\n",
    "            print(\"Added too many elements!\")\n",
    "            self.realSize -= 1\n",
    "            return\n",
    "        # Add the element into the array\n",
    "        self.minheap[self.realSize] = element\n",
    "        # Index of the newly added element\n",
    "        index = self.realSize\n",
    "        # Parent node of the newly added element\n",
    "        # Note if we use an array to represent the complete binary tree\n",
    "        # and store the root node at index 1\n",
    "        # index of the parent node of any node is [index of the node / 2]\n",
    "        # index of the left child node is [index of the node * 2]\n",
    "        # index of the right child node is [index of the node * 2 + 1]\n",
    "        parent = index // 2\n",
    "        # If the newly added element is smaller than its parent node,\n",
    "        # its value will be exchanged with that of the parent node \n",
    "        while (self.minheap[index] < self.minheap[parent] and index > 1):\n",
    "            self.minheap[parent], self.minheap[index] = self.minheap[index], self.minheap[parent]\n",
    "            index = parent\n",
    "            parent = index // 2\n",
    "    \n",
    "    # Get the top element of the Heap\n",
    "    def peek(self):\n",
    "        return self.minheap[1]\n",
    "    \n",
    "    # Delete the top element of the Heap\n",
    "    def pop(self):\n",
    "        # If the number of elements in the current Heap is 0,\n",
    "        # print \"Don't have any elements\" and return a default value\n",
    "        if self.realSize < 1:\n",
    "            print(\"Don't have any element!\")\n",
    "            return sys.maxsize\n",
    "        else:\n",
    "            # When there are still elements in the Heap\n",
    "            # self.realSize >= 1\n",
    "            removeElement = self.minheap[1]\n",
    "            # Put the last element in the Heap to the top of Heap\n",
    "            self.minheap[1] = self.minheap[self.realSize]\n",
    "            self.realSize -= 1\n",
    "            index = 1\n",
    "            # When the deleted element is not a leaf node\n",
    "            while (index <= self.realSize // 2):\n",
    "                # the left child of the deleted element\n",
    "                left = index * 2\n",
    "                # the right child of the deleted element\n",
    "                right = (index * 2) + 1\n",
    "                # If the deleted element is larger than the left or right child\n",
    "                # its value needs to be exchanged with the smaller value\n",
    "                # of the left and right child\n",
    "                if (self.minheap[index] > self.minheap[left] or self.minheap[index] > self.minheap[right]):\n",
    "                    if self.minheap[left] < self.minheap[right]:\n",
    "                        self.minheap[left], self.minheap[index] = self.minheap[index], self.minheap[left]\n",
    "                        index = left\n",
    "                    else:\n",
    "                        self.minheap[right], self.minheap[index] = self.minheap[index], self.minheap[right]\n",
    "                        index = right\n",
    "                else:\n",
    "                    break\n",
    "            return removeElement\n",
    "    \n",
    "    # return the number of elements in the Heap\n",
    "    def size(self):\n",
    "        return self.realSize\n",
    "    \n",
    "    def __str__(self):\n",
    "        return str(self.minheap[1 : self.realSize + 1])\n",
    "        \n",
    "\n",
    "if __name__ == \"__main__\":\n",
    "    \t# Test cases\n",
    "        minHeap = MinHeap(5)\n",
    "        minHeap.add(3)\n",
    "        minHeap.add(1)\n",
    "        minHeap.add(2)\n",
    "        # [1,3,2]\n",
    "        print(minHeap)\n",
    "        # 1\n",
    "        print(minHeap.peek())\n",
    "        # 1\n",
    "        print(minHeap.pop())\n",
    "        # 2\n",
    "        print(minHeap.pop())\n",
    "        # 3\n",
    "        print(minHeap.pop())\n",
    "        minHeap.add(4)\n",
    "        minHeap.add(5)\n",
    "        # [4,5]\n",
    "        print(minHeap)"
   ]
  },
  {
   "cell_type": "code",
   "execution_count": 3,
   "metadata": {},
   "outputs": [
    {
     "name": "stdout",
     "output_type": "stream",
     "text": [
      "[3, 1, 2]\n",
      "3\n",
      "3\n",
      "2\n",
      "1\n",
      "[5, 4]\n"
     ]
    }
   ],
   "source": [
    "# Implementing \"Max Heap\"\n",
    "class MaxHeap:\n",
    "    def __init__(self, heapSize):\n",
    "        # Create a complete binary tree using an array\n",
    "        # Then use the binary tree to construct a Heap\n",
    "        self.heapSize = heapSize\n",
    "        # the number of elements is needed when instantiating an array\n",
    "        # heapSize records the size of the array\n",
    "        self.maxheap = [0] * (heapSize + 1)\n",
    "        # realSize records the number of elements in the Heap\n",
    "        self.realSize = 0\n",
    "\n",
    "    # Function to add an element\n",
    "    def add(self, element):\n",
    "        self.realSize += 1\n",
    "        # If the number of elements in the Heap exceeds the preset heapSize\n",
    "        # print \"Added too many elements\" and return\n",
    "        if self.realSize > self.heapSize:\n",
    "            print(\"Added too many elements!\")\n",
    "            self.realSize -= 1\n",
    "            return\n",
    "        # Add the element into the array\n",
    "        self.maxheap[self.realSize] = element\n",
    "        # Index of the newly added element\n",
    "        index = self.realSize\n",
    "        # Parent node of the newly added element\n",
    "        # Note if we use an array to represent the complete binary tree\n",
    "        # and store the root node at index 1\n",
    "        # index of the parent node of any node is [index of the node / 2]\n",
    "        # index of the left child node is [index of the node * 2]\n",
    "        # index of the right child node is [index of the node * 2 + 1]\n",
    "        parent = index // 2\n",
    "        \n",
    "        # If the newly added element is larger than its parent node,\n",
    "        # its value will be exchanged with that of the parent node \n",
    "        while (self.maxheap[index] > self.maxheap[parent] and index > 1):\n",
    "            self.maxheap[parent], self.maxheap[index] = self.maxheap[index], self.maxheap[parent]\n",
    "            index = parent\n",
    "            parent = index // 2\n",
    "            \n",
    "    # Get the top element of the Heap\n",
    "    def peek(self):\n",
    "        return self.maxheap[1]\n",
    "    \n",
    "    # Delete the top element of the Heap\n",
    "    def pop(self):\n",
    "        # If the number of elements in the current Heap is 0,\n",
    "        # print \"Don't have any elements\" and return a default value\n",
    "        if self.realSize < 1:\n",
    "            print(\"Don't have any element!\")\n",
    "            return -sys.maxsize\n",
    "        else:\n",
    "            # When there are still elements in the Heap\n",
    "            # self.realSize >= 1\n",
    "            removeElement = self.maxheap[1]\n",
    "            # Put the last element in the Heap to the top of Heap\n",
    "            self.maxheap[1] = self.maxheap[self.realSize]\n",
    "            self.realSize -= 1\n",
    "            index = 1\n",
    "            # When the deleted element is not a leaf node\n",
    "            while (index <= self.realSize // 2):\n",
    "                # the left child of the deleted element\n",
    "                left = index * 2\n",
    "                # the right child of the deleted element\n",
    "                right = (index * 2) + 1\n",
    "                # If the deleted element is smaller than the left or right child\n",
    "                # its value needs to be exchanged with the larger value\n",
    "                # of the left and right child\n",
    "                if (self.maxheap[index] < self.maxheap[left] or self.maxheap[index] < self.maxheap[right]):\n",
    "                    if self.maxheap[left] > self.maxheap[right]:\n",
    "                        self.maxheap[left], self.maxheap[index] = self.maxheap[index], self.maxheap[left]\n",
    "                        index = left\n",
    "                    else:\n",
    "                        self.maxheap[right], self.maxheap[index] = self.maxheap[index], self.maxheap[right]\n",
    "                        index = right\n",
    "                else:\n",
    "                    break\n",
    "            return removeElement\n",
    "    \n",
    "    # return the number of elements in the Heap\n",
    "    def size(self):\n",
    "        return self.realSize\n",
    "    \n",
    "    def __str__(self):\n",
    "        return str(self.maxheap[1 : self.realSize + 1])\n",
    "        \n",
    "\n",
    "if __name__ == \"__main__\":\n",
    "    \t# Test cases\n",
    "        maxHeap = MaxHeap(5)\n",
    "        maxHeap.add(1)\n",
    "        maxHeap.add(2)\n",
    "        maxHeap.add(3)\n",
    "        # [3,1,2]\n",
    "        print(maxHeap)\n",
    "        # 3\n",
    "        print(maxHeap.peek())\n",
    "        # 3\n",
    "        print(maxHeap.pop())\n",
    "        # 2\n",
    "        print(maxHeap.pop())\n",
    "        # 1\n",
    "        print(maxHeap.pop())\n",
    "        maxHeap.add(4)\n",
    "        maxHeap.add(5)\n",
    "        # [5,4]\n",
    "        print(maxHeap)"
   ]
  },
  {
   "attachments": {},
   "cell_type": "markdown",
   "metadata": {},
   "source": [
    "Construct with using built in function"
   ]
  },
  {
   "cell_type": "code",
   "execution_count": 5,
   "metadata": {},
   "outputs": [],
   "source": [
    "import heapq\n",
    "\n",
    "# Construct an empty Min Heap\n",
    "minHeap = []\n",
    "heapq.heapify(minHeap)\n",
    "\n",
    "# Construct an empty Max Heap\n",
    "# As there are no internal functions to construct a Max Heap in Python,\n",
    "# So, we will not construct a Max Heap.\n",
    "\n",
    "# Construct a Heap with Initial values\n",
    "# this process is called \"Heapify\"\n",
    "# The Heap is a Min Heap\n",
    "heapWithValues = [3,1,2]\n",
    "heapq.heapify(heapWithValues)\n",
    "\n",
    "# Trick in constructing a Max Heap\n",
    "# As there are no internal functions to construct a Max Heap\n",
    "# We can multiply each element by -1, then heapify with these modified elements.\n",
    "# The top element will be the smallest element in the modified set,\n",
    "# It can also be converted to the maximum value in the original dataset.\n",
    "# Example\n",
    "maxHeap = [1,2,3]\n",
    "maxHeap = [-x for x in maxHeap]\n",
    "heapq.heapify(maxHeap)\n",
    "# The top element of maxHeap is -3\n",
    "# Convert -3 to 3, which is the maximum value in the original maxHeap\n"
   ]
  },
  {
   "attachments": {},
   "cell_type": "markdown",
   "metadata": {},
   "source": [
    "Insert the Element"
   ]
  },
  {
   "cell_type": "code",
   "execution_count": 6,
   "metadata": {},
   "outputs": [],
   "source": [
    "# Insert an element to the Min Heap\n",
    "heapq.heappush(minHeap, 5)\n",
    "\n",
    "# Insert an element to the Max Heap\n",
    "# Multiply the element by -1\n",
    "# As we are converting the Min Heap to a Max Heap\n",
    "heapq.heappush(maxHeap, -1 * 5)"
   ]
  },
  {
   "attachments": {},
   "cell_type": "markdown",
   "metadata": {},
   "source": [
    "top element"
   ]
  },
  {
   "cell_type": "code",
   "execution_count": 7,
   "metadata": {},
   "outputs": [
    {
     "data": {
      "text/plain": [
       "5"
      ]
     },
     "execution_count": 7,
     "metadata": {},
     "output_type": "execute_result"
    }
   ],
   "source": [
    "# Get top element from the Min Heap\n",
    "# i.e. the smallest element\n",
    "minHeap[0]\n",
    "# Get top element from the Max Heap\n",
    "# i.e. the largest element\n",
    "# When inserting an element, we multiplied it by -1\n",
    "# Therefore, we need to multiply the element by -1 to revert it back\n",
    "-1 * maxHeap[0]"
   ]
  },
  {
   "attachments": {},
   "cell_type": "markdown",
   "metadata": {},
   "source": [
    "Delete top element"
   ]
  },
  {
   "cell_type": "code",
   "execution_count": 8,
   "metadata": {},
   "outputs": [
    {
     "data": {
      "text/plain": [
       "-5"
      ]
     },
     "execution_count": 8,
     "metadata": {},
     "output_type": "execute_result"
    }
   ],
   "source": [
    "# Delete top element from the Min Heap\n",
    "heapq.heappop(minHeap)\n",
    "\n",
    "# Delete top element from the Max Heap\n",
    "heapq.heappop(maxHeap)"
   ]
  },
  {
   "cell_type": "code",
   "execution_count": 9,
   "metadata": {},
   "outputs": [
    {
     "data": {
      "text/plain": [
       "3"
      ]
     },
     "execution_count": 9,
     "metadata": {},
     "output_type": "execute_result"
    }
   ],
   "source": [
    "# Length of the Min Heap\n",
    "len(minHeap)\n",
    "\n",
    "# Length of the Max Heap\n",
    "len(maxHeap)"
   ]
  },
  {
   "attachments": {},
   "cell_type": "markdown",
   "metadata": {},
   "source": [
    "Heap sort with O(n) complexcity\n",
    "\n",
    "\n",
    "For one, it is not a stable sort. It also turns out that in practice, this algorithm performs worse than other O(NlogN) sorts as a result of bad cache locality properties. Heapsort swaps elements based on locations in heaps, which can cause many read operations to access indices in a seemingly random order, causing many cache misses, which will result in practical performance hits."
   ]
  },
  {
   "cell_type": "code",
   "execution_count": 21,
   "metadata": {},
   "outputs": [
    {
     "name": "stdout",
     "output_type": "stream",
     "text": [
      "[10, 8, 9, 5, 6, 2, 7, 3, 1]\n",
      "[1, 2, 3, 5, 6, 7, 8, 9, 10]\n"
     ]
    }
   ],
   "source": [
    "def HeapSort(arr):\n",
    "    def maxHeap(heapSize,index):\n",
    "        left, right = 2 * index + 1, 2 * index + 2\n",
    "        pointer = index\n",
    "        if left < heapSize and arr[pointer] < arr[left]:\n",
    "            pointer = left\n",
    "        if right < heapSize and arr[pointer] < arr[right]:\n",
    "            pointer =  right\n",
    "        if pointer != index:\n",
    "            arr[pointer], arr[index] = arr[index], arr[pointer]\n",
    "            maxHeap(heapSize,pointer)    \n",
    "\n",
    "    for i in range(len(arr)//2 -1,-1,-1):\n",
    "        maxHeap(len(arr),i)\n",
    "    print(arr)    \n",
    "    for i in range(len(arr) - 1, 0, -1):\n",
    "                # swap last element with first element\n",
    "                arr[i], arr[0] = arr[0], arr[i]\n",
    "                # note that we reduce the heap size by 1 every iteration\n",
    "                maxHeap(i, 0)\n",
    "    print(arr)            \n",
    "HeapSort([7,3,2,5,6,10,9,8,1])"
   ]
  },
  {
   "cell_type": "code",
   "execution_count": 2,
   "metadata": {},
   "outputs": [
    {
     "data": {
      "text/plain": [
       "2"
      ]
     },
     "execution_count": 2,
     "metadata": {},
     "output_type": "execute_result"
    }
   ],
   "source": [
    "29//10\n",
    "# 29%10"
   ]
  }
 ],
 "metadata": {
  "kernelspec": {
   "display_name": "Python 3",
   "language": "python",
   "name": "python3"
  },
  "language_info": {
   "codemirror_mode": {
    "name": "ipython",
    "version": 3
   },
   "file_extension": ".py",
   "mimetype": "text/x-python",
   "name": "python",
   "nbconvert_exporter": "python",
   "pygments_lexer": "ipython3",
   "version": "3.10.0"
  },
  "orig_nbformat": 4
 },
 "nbformat": 4,
 "nbformat_minor": 2
}
