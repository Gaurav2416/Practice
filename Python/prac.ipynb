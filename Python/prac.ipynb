{
 "cells": [
  {
   "cell_type": "code",
   "execution_count": 2,
   "metadata": {},
   "outputs": [
    {
     "name": "stdout",
     "output_type": "stream",
     "text": [
      "Inside change= 6\n",
      "Inside dem= 10\n"
     ]
    }
   ],
   "source": [
    "def dem():\n",
    "    val = 10\n",
    "    change(val)\n",
    "    print('Inside dem=',val)\n",
    "def change(d):\n",
    "    d = 6\n",
    "    print('Inside change=',d)\n",
    "dem()\n"
   ]
  },
  {
   "cell_type": "code",
   "execution_count": null,
   "metadata": {},
   "outputs": [],
   "source": []
  }
 ],
 "metadata": {
  "kernelspec": {
   "display_name": "Python 3.10.4 64-bit",
   "language": "python",
   "name": "python3"
  },
  "language_info": {
   "codemirror_mode": {
    "name": "ipython",
    "version": 3
   },
   "file_extension": ".py",
   "mimetype": "text/x-python",
   "name": "python",
   "nbconvert_exporter": "python",
   "pygments_lexer": "ipython3",
   "version": "3.10.4"
  },
  "orig_nbformat": 4,
  "vscode": {
   "interpreter": {
    "hash": "4b158de9dee9cdd12df4ca6f07919f74aba3858e0415eb8802c7bdbce4de9a36"
   }
  }
 },
 "nbformat": 4,
 "nbformat_minor": 2
}
